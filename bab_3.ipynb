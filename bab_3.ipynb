{
  "nbformat": 4,
  "nbformat_minor": 0,
  "metadata": {
    "colab": {
      "provenance": [],
      "authorship_tag": "ABX9TyPtaIu3O10sMsglxLNPyhAu",
      "include_colab_link": true
    },
    "kernelspec": {
      "name": "python3",
      "display_name": "Python 3"
    },
    "language_info": {
      "name": "python"
    }
  },
  "cells": [
    {
      "cell_type": "markdown",
      "metadata": {
        "id": "view-in-github",
        "colab_type": "text"
      },
      "source": [
        "<a href=\"https://colab.research.google.com/github/bringsrain/catatan-buku-python-untuk-analisis-dan-visualisasi-data/blob/main/bab_3.ipynb\" target=\"_parent\"><img src=\"https://colab.research.google.com/assets/colab-badge.svg\" alt=\"Open In Colab\"/></a>"
      ]
    },
    {
      "cell_type": "code",
      "source": [
        "import pandas as pd"
      ],
      "metadata": {
        "id": "Kzd8SXfCaNxH"
      },
      "execution_count": 4,
      "outputs": []
    },
    {
      "cell_type": "code",
      "execution_count": 5,
      "metadata": {
        "colab": {
          "base_uri": "https://localhost:8080/"
        },
        "id": "XyfJ5QDbZbE3",
        "outputId": "fc008d44-e88c-4c95-be05-64f759776984"
      },
      "outputs": [
        {
          "output_type": "execute_result",
          "data": {
            "text/plain": [
              "0     Joni Gudel\n",
              "1     Edi Yunani\n",
              "2    Toni Sulung\n",
              "3    Retno Mimin\n",
              "dtype: object"
            ]
          },
          "metadata": {},
          "execution_count": 5
        }
      ],
      "source": [
        "teman = ['Joni Gudel', 'Edi Yunani', 'Toni Sulung', 'Retno Mimin']\n",
        "pd.Series(teman)"
      ]
    },
    {
      "cell_type": "code",
      "source": [
        "temanakrab = {0: 'Joni Gudel', 1: 'Edi Yunani', 2: 'Toni Sulung', 3: 'Retno Mimin'}\n",
        "pd.Series(temanakrab)"
      ],
      "metadata": {
        "colab": {
          "base_uri": "https://localhost:8080/"
        },
        "id": "hor0UpZ-Z2Xj",
        "outputId": "38fa3830-6f6c-48f0-9721-d1ce3238613c"
      },
      "execution_count": 7,
      "outputs": [
        {
          "output_type": "execute_result",
          "data": {
            "text/plain": [
              "0     Joni Gudel\n",
              "1     Edi Yunani\n",
              "2    Toni Sulung\n",
              "3    Retno Mimin\n",
              "dtype: object"
            ]
          },
          "metadata": {},
          "execution_count": 7
        }
      ]
    }
  ]
}