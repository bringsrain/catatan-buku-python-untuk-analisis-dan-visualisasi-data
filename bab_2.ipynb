{
  "nbformat": 4,
  "nbformat_minor": 0,
  "metadata": {
    "colab": {
      "provenance": [],
      "authorship_tag": "ABX9TyO/YLow5fPrjLqymgoAafzh",
      "include_colab_link": true
    },
    "kernelspec": {
      "name": "python3",
      "display_name": "Python 3"
    },
    "language_info": {
      "name": "python"
    }
  },
  "cells": [
    {
      "cell_type": "markdown",
      "metadata": {
        "id": "view-in-github",
        "colab_type": "text"
      },
      "source": [
        "<a href=\"https://colab.research.google.com/github/bringsrain/catatan-buku-python-untuk-analisis-dan-visualisasi-data/blob/main/bab_2.ipynb\" target=\"_parent\"><img src=\"https://colab.research.google.com/assets/colab-badge.svg\" alt=\"Open In Colab\"/></a>"
      ]
    },
    {
      "cell_type": "code",
      "execution_count": 1,
      "metadata": {
        "id": "OXfkTTImPVsH"
      },
      "outputs": [],
      "source": [
        "import pandas as pd"
      ]
    },
    {
      "cell_type": "code",
      "source": [
        "teman = ['Joni Gudel', 'Edi Yunani', 'Toni Sulung', 'Retno Mimin']"
      ],
      "metadata": {
        "id": "VhVqxWWZPiBm"
      },
      "execution_count": 2,
      "outputs": []
    },
    {
      "cell_type": "code",
      "source": [
        "pd.Series(teman)"
      ],
      "metadata": {
        "colab": {
          "base_uri": "https://localhost:8080/"
        },
        "id": "YlCyzXCCQfoy",
        "outputId": "f2c700e6-ec4c-46ab-9594-405fc86e6a40"
      },
      "execution_count": 3,
      "outputs": [
        {
          "output_type": "execute_result",
          "data": {
            "text/plain": [
              "0     Joni Gudel\n",
              "1     Edi Yunani\n",
              "2    Toni Sulung\n",
              "3    Retno Mimin\n",
              "dtype: object"
            ]
          },
          "metadata": {},
          "execution_count": 3
        }
      ]
    },
    {
      "cell_type": "code",
      "source": [
        "usia = [17, 21, 33, 45]"
      ],
      "metadata": {
        "id": "V3aTlpG-RIoT"
      },
      "execution_count": 4,
      "outputs": []
    },
    {
      "cell_type": "code",
      "source": [
        "pd.Series(usia)"
      ],
      "metadata": {
        "colab": {
          "base_uri": "https://localhost:8080/"
        },
        "id": "aNE0Fe8DRPJo",
        "outputId": "63a0102a-2ed0-4559-9953-dd28ec6573b1"
      },
      "execution_count": 5,
      "outputs": [
        {
          "output_type": "execute_result",
          "data": {
            "text/plain": [
              "0    17\n",
              "1    21\n",
              "2    33\n",
              "3    45\n",
              "dtype: int64"
            ]
          },
          "metadata": {},
          "execution_count": 5
        }
      ]
    },
    {
      "cell_type": "code",
      "source": [
        "berat = [77.5, 46.8, 52.3, 66.8]"
      ],
      "metadata": {
        "id": "e2-7Tf4bRYOR"
      },
      "execution_count": 6,
      "outputs": []
    },
    {
      "cell_type": "code",
      "source": [
        "pd.Series(berat)"
      ],
      "metadata": {
        "colab": {
          "base_uri": "https://localhost:8080/"
        },
        "id": "6LPvyiSMRhLi",
        "outputId": "bb5d8e52-e745-4c22-b141-b786948f8504"
      },
      "execution_count": 7,
      "outputs": [
        {
          "output_type": "execute_result",
          "data": {
            "text/plain": [
              "0    77.5\n",
              "1    46.8\n",
              "2    52.3\n",
              "3    66.8\n",
              "dtype: float64"
            ]
          },
          "metadata": {},
          "execution_count": 7
        }
      ]
    },
    {
      "cell_type": "code",
      "source": [
        "dataacak = [17, 'Yogyakarta', 18.5, {'kondisi': 100}]\n",
        "pd.Series(dataacak)"
      ],
      "metadata": {
        "colab": {
          "base_uri": "https://localhost:8080/"
        },
        "id": "FjFw7MwWR_Cg",
        "outputId": "56cff7ee-9d39-4f7b-fc39-ca40cf3649e1"
      },
      "execution_count": 8,
      "outputs": [
        {
          "output_type": "execute_result",
          "data": {
            "text/plain": [
              "0                  17\n",
              "1          Yogyakarta\n",
              "2                18.5\n",
              "3    {'kondisi': 100}\n",
              "dtype: object"
            ]
          },
          "metadata": {},
          "execution_count": 8
        }
      ]
    }
  ]
}